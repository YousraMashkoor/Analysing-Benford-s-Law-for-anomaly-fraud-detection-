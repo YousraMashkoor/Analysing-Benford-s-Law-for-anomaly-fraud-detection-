{
  "nbformat": 4,
  "nbformat_minor": 0,
  "metadata": {
    "colab": {
      "name": "BENFORD.ipynb",
      "provenance": [],
      "collapsed_sections": []
    },
    "kernelspec": {
      "name": "python3",
      "display_name": "Python 3"
    }
  },
  "cells": [
    {
      "cell_type": "code",
      "metadata": {
        "id": "9pNgtoaBMiQN",
        "colab_type": "code",
        "colab": {}
      },
      "source": [
        "\n",
        "    ## Comparing Fibonacci numbers and length of rivers of the world with Benfor's\n",
        "    ## law using Matplotlib for data visualization and Pandas for data cleaning\n",
        "    ##    @varsion 1.0\n",
        "    ##    @updated 6/4/2020\n",
        "\n",
        "\n",
        "##Importing necesary modules used through out the course\n",
        "import math\n",
        "import numpy as np\n",
        "import pandas as pd\n",
        "import matplotlib.pyplot as plt\n",
        "from scipy.stats import chisquare"
      ],
      "execution_count": null,
      "outputs": []
    },
    {
      "cell_type": "markdown",
      "metadata": {
        "id": "nhfg-w2Bjy5a",
        "colab_type": "text"
      },
      "source": [
        "## Generating Fibonacci"
      ]
    },
    {
      "cell_type": "code",
      "metadata": {
        "id": "oftSjHWS-nVe",
        "colab_type": "code",
        "colab": {}
      },
      "source": [
        "#### generaing febonacci uptill provided terms in a list\n",
        "\n",
        "## parameter values: no of terms required as int <term>\n",
        "## return: febonacci series as list\n",
        "def generate_febonacci(term):\n",
        "  # storing 1st 2 terms \n",
        "  values=[1,1]                             \n",
        "  if term<=0:\n",
        "      return None\n",
        "  else:\n",
        "      for x in range(0,term-2):\n",
        "          next=values[x]+values[x+1]\n",
        "          values.append(next)                        \n",
        "\n",
        "  return values"
      ],
      "execution_count": null,
      "outputs": []
    },
    {
      "cell_type": "markdown",
      "metadata": {
        "id": "EPCKK28HjAV5",
        "colab_type": "text"
      },
      "source": [
        "## Leading digits"
      ]
    },
    {
      "cell_type": "code",
      "metadata": {
        "id": "Va1G4ubHP_rG",
        "colab_type": "code",
        "colab": {}
      },
      "source": [
        "#### funtion that generates a list of leading digits from the provided list\n",
        "\n",
        "## parameter value: list of values as <values>\n",
        "## returns: list of leading digits\n",
        "def first_digits(values):\n",
        "  l=[]\n",
        "  for x in values:\n",
        "    l.append((x // 10 ** (int(math.log(x, 10)) - 1 + 1)))\n",
        "  return l"
      ],
      "execution_count": null,
      "outputs": []
    },
    {
      "cell_type": "markdown",
      "metadata": {
        "id": "PJHguXrEi77L",
        "colab_type": "text"
      },
      "source": [
        "## Counter"
      ]
    },
    {
      "cell_type": "code",
      "metadata": {
        "id": "6IWftRPPd6sX",
        "colab_type": "code",
        "colab": {}
      },
      "source": [
        "#### function that generates the frequency of\n",
        "#### each digits from 1-9 in a list\n",
        "\n",
        "## parameter value: list if values <values>\n",
        "## returns: list of counts <count>\n",
        "##          or return 0 if <values> contain\n",
        "##          a digit greater than 9\n",
        "\n",
        "def counter(values):\n",
        "  # initializing list with 9 zero values\n",
        "  count=[0]*9\n",
        "  for x in values:\n",
        "    if x>9:\n",
        "      continue\n",
        "    count[x-1]+=1\n",
        "  return count"
      ],
      "execution_count": null,
      "outputs": []
    },
    {
      "cell_type": "markdown",
      "metadata": {
        "id": "xQjH14TbmGxP",
        "colab_type": "text"
      },
      "source": [
        "## Observed percentage"
      ]
    },
    {
      "cell_type": "code",
      "metadata": {
        "id": "BksJH9qZbrWd",
        "colab_type": "code",
        "colab": {}
      },
      "source": [
        "#### function to create list of percentage of \n",
        "#### each digit in the list\n",
        "\n",
        "  ## parameter values: list of counts of each digit <counts>\n",
        "  ##                   total no of initial values <total>\n",
        "  ## returns: list of percentages\n",
        "\n",
        "def observed_per(counts):\n",
        "  ob=[]\n",
        "  total=sum(counts)\n",
        "  for x in counts:\n",
        "    ob.append(round(((x/total)*100),2))\n",
        "  return ob"
      ],
      "execution_count": null,
      "outputs": []
    },
    {
      "cell_type": "markdown",
      "metadata": {
        "id": "La76n3fKRyGX",
        "colab_type": "text"
      },
      "source": [
        "## Benford's percentage"
      ]
    },
    {
      "cell_type": "code",
      "metadata": {
        "id": "gciOYAnIRF2z",
        "colab_type": "code",
        "colab": {}
      },
      "source": [
        "####Function to generate benford's expected values \n",
        "####using formula described by Frank Benford in his theory.\n",
        "\n",
        "## returns: list of benford's terms \n",
        "def benfords_per():\n",
        "  exp=[]\n",
        "  for x in range(1,10):\n",
        "    exp.append(round(math.log(1+(1/x),10)*100,2))\n",
        "  return exp"
      ],
      "execution_count": null,
      "outputs": []
    },
    {
      "cell_type": "markdown",
      "metadata": {
        "id": "0dJa2ScMp_ud",
        "colab_type": "text"
      },
      "source": [
        "## Bar Chart"
      ]
    },
    {
      "cell_type": "code",
      "metadata": {
        "id": "y-9opHrge4Jl",
        "colab_type": "code",
        "colab": {}
      },
      "source": [
        "# Funtion to generate a bar chart comparison between to set of lists\n",
        "\n",
        "    # parameter value: list of observed values <o>\n",
        "    #                   list of expected values <e>\n",
        "    # Display: Bar chart comparison\n",
        "\n",
        "\n",
        "def bar_chart(o,e):\n",
        "  N = 9\n",
        "\n",
        "  ind = np.arange(N)   # the x locations for the groups\n",
        "  width = 0.35         # the width of the bars\n",
        "  ## for bar plot    \n",
        "  plt.bar(ind, e, width, label='Benford''s law expected')\n",
        "  plt.bar(ind+width, o, width, label='Observed')\n",
        "\n",
        "  ## for line plot\n",
        "  plt.plot(ind + width, o, color='#FFA500')\n",
        "  # plt.plot(ind, e,color='#FFA500', label='Benford''s law expected')\n",
        "\n",
        "  plt.ylabel('Percentage')\n",
        "  plt.title('Digits')\n",
        "\n",
        "  plt.xticks(ind + width / 2, (1,2,3,4,5,6,7,8,9))\n",
        "  plt.legend(loc='best',numpoints = 1)\n",
        "  plt.show()\n"
      ],
      "execution_count": null,
      "outputs": []
    },
    {
      "cell_type": "markdown",
      "metadata": {
        "id": "jH5nGSwXwgru",
        "colab_type": "text"
      },
      "source": [
        "## Final benford comparison"
      ]
    },
    {
      "cell_type": "code",
      "metadata": {
        "id": "AM5nru67wNpA",
        "colab_type": "code",
        "colab": {}
      },
      "source": [
        "## Compiling all of the functions created into one single one \n",
        "## to perform benford's comparison \n",
        "\n",
        "## parameter value: list of values to be make compariosn with <values>\n",
        "## displays: Bar chart , Table of values , and Table of comparison\n",
        "\n",
        "def benford_comp(values):\n",
        "  leads=first_digits(values)\n",
        "  counts=counter(leads)\n",
        "\n",
        "  obs=observed_per(counts)\n",
        "  exp=benfords_per()\n",
        "\n",
        "  ## display bar chart comparison\n",
        "  bar_chart(obs,exp)\n",
        "\n",
        "  ## chi square test\n",
        "  x,y=chisquare(obs,f_exp=exp)\n",
        "  print(\"Chi Square Test in % \", round(y,7)*100,\"%\")\n",
        "  print()\n",
        "\n",
        "  #calculating variations\n",
        "  var=[]\n",
        "  for x in range(0,9):\n",
        "    var.append(round((obs[x]-exp[x])/100,4))\n",
        "\n",
        "  ## display data list\n",
        "  table1=pd.DataFrame({'value':values,'Leading Digit Value':leads})\n",
        "  print(table1.T)\n",
        "\n",
        "  ## dislay benfords comparion table\n",
        "  table2=pd.DataFrame(list(zip(counts,obs,exp,var)),columns=['Count','Observed %','Benfords Expected %','Variation'],index=[1,2,3,4,5,6,7,8,9]).rename_axis('LEADING DIGITS')\n",
        "  print(table2)\n"
      ],
      "execution_count": null,
      "outputs": []
    },
    {
      "cell_type": "markdown",
      "metadata": {
        "id": "J7bks9IDqOfz",
        "colab_type": "text"
      },
      "source": [
        "# CASE 02 febonacci terms comparions"
      ]
    },
    {
      "cell_type": "markdown",
      "metadata": {
        "id": "gRikc7StWTLB",
        "colab_type": "text"
      },
      "source": [
        "# TEST"
      ]
    },
    {
      "cell_type": "code",
      "metadata": {
        "id": "dSpNYxTUqL3v",
        "colab_type": "code",
        "colab": {
          "base_uri": "https://localhost:8080/",
          "height": 573
        },
        "outputId": "d702cdc2-adc5-428b-ffc4-043f79d1380c"
      },
      "source": [
        "\n",
        "benford_comp(generate_febonacci(24))"
      ],
      "execution_count": null,
      "outputs": [
        {
          "output_type": "display_data",
          "data": {
            "image/png": "[encoded data removed]",
            "text/plain": [
              "<Figure size 432x288 with 1 Axes>"
            ]
          },
          "metadata": {
            "tags": [],
            "needs_background": "light"
          }
        },
        {
          "output_type": "stream",
          "text": [
            "Chi Square Test in %  33.55192 %\n",
            "\n",
            "                     0   1   2   3   4   5   ...    18    19     20     21     22     23\n",
            "value                 1   1   2   3   5   8  ...  4181  6765  10946  17711  28657  46368\n",
            "Leading Digit Value   1   1   2   3   5   8  ...     4     6      1      1      2      4\n",
            "\n",
            "[2 rows x 24 columns]\n",
            "                Count  Observed %  Benfords Expected %  Variation\n",
            "LEADING DIGITS                                                   \n",
            "1                   7       29.17                30.10    -0.0093\n",
            "2                   5       20.83                17.61     0.0322\n",
            "3                   3       12.50                12.49     0.0001\n",
            "4                   2        8.33                 9.69    -0.0136\n",
            "5                   2        8.33                 7.92     0.0041\n",
            "6                   2        8.33                 6.69     0.0164\n",
            "7                   0        0.00                 5.80    -0.0580\n",
            "8                   2        8.33                 5.12     0.0321\n",
            "9                   1        4.17                 4.58    -0.0041\n"
          ],
          "name": "stdout"
        }
      ]
    },
    {
      "cell_type": "code",
      "metadata": {
        "id": "jdWLs64JmxtN",
        "colab_type": "code",
        "colab": {
          "base_uri": "https://localhost:8080/",
          "height": 573
        },
        "outputId": "7b751bce-5c83-4e00-ab0a-5e8585de1600"
      },
      "source": [
        "benford_comp(generate_febonacci(150))"
      ],
      "execution_count": null,
      "outputs": [
        {
          "output_type": "display_data",
          "data": {
            "image/png": "[encoded data removed]",
            "text/plain": [
              "<Figure size 432x288 with 1 Axes>"
            ]
          },
          "metadata": {
            "tags": [],
            "needs_background": "light"
          }
        },
        {
          "output_type": "stream",
          "text": [
            "Chi Square Test in %  100.0 %\n",
            "\n",
            "                     0  ...                              149\n",
            "value                1  ...  9969216677189303386214405760200\n",
            "Leading Digit Value  1  ...                                9\n",
            "\n",
            "[2 rows x 150 columns]\n",
            "                Count  Observed %  Benfords Expected %  Variation\n",
            "LEADING DIGITS                                                   \n",
            "1                  44        0.29                 0.30    -0.0001\n",
            "2                  27        0.18                 0.18     0.0000\n",
            "3                  19        0.13                 0.12     0.0001\n",
            "4                  13        0.09                 0.10    -0.0001\n",
            "5                  13        0.09                 0.08     0.0001\n",
            "6                   9        0.06                 0.07    -0.0001\n",
            "7                   8        0.05                 0.06    -0.0001\n",
            "8                  10        0.07                 0.05     0.0002\n",
            "9                   7        0.05                 0.05     0.0000\n"
          ],
          "name": "stdout"
        }
      ]
    },
    {
      "cell_type": "markdown",
      "metadata": {
        "id": "wFO53-63V1qG",
        "colab_type": "text"
      },
      "source": [
        "# CASE 03 rivers of the world"
      ]
    },
    {
      "cell_type": "markdown",
      "metadata": {
        "id": "FleSOgFOWARR",
        "colab_type": "text"
      },
      "source": [
        "## Extracting data from excel"
      ]
    },
    {
      "cell_type": "code",
      "metadata": {
        "id": "0ZHQUx0-xVmO",
        "colab_type": "code",
        "colab": {}
      },
      "source": [
        "### Reading Rivers data from excel sheet \n",
        "\n",
        "river_data_file = 'Rivers.xlsx'\n",
        "\n",
        "rivers = pd.read_excel(river_data_file,\n",
        "header=0,\n",
        "index_col=False,\n",
        "keep_default_na=True,\n",
        "usecols='A:D'\n",
        ")"
      ],
      "execution_count": null,
      "outputs": []
    },
    {
      "cell_type": "markdown",
      "metadata": {
        "id": "r80DgDwJubC6",
        "colab_type": "text"
      },
      "source": [
        "## Data Cleaning"
      ]
    },
    {
      "cell_type": "code",
      "metadata": {
        "id": "5h1osIrRDL_6",
        "colab_type": "code",
        "colab": {}
      },
      "source": [
        "### Performing Data cleaning and preprocessing\n",
        "\n",
        "rivers.columns = ['index','River','Length(km)','Length(miles)']\n",
        "rivers.head()\n",
        "\n",
        "### removing columns with nan values\n",
        "df=rivers.dropna().set_index('index')\n",
        "\n",
        "cols_to_check=['Length(km)','Length(miles)']\n",
        "# df[cols_to_check]=df[cols_to_check].map(lambda x: x.rstrip('*'))\n",
        "df[cols_to_check] = df[cols_to_check].replace({',':'','\\*':''}, regex=True)\n",
        "\n",
        "## removing any daat with spaces in them\n",
        "df=df[~df['Length(km)'].astype(str).str.contains(\" \")]\n",
        "df=df[~df['Length(miles)'].astype(str).str.contains(\" \")]\n"
      ],
      "execution_count": null,
      "outputs": []
    },
    {
      "cell_type": "markdown",
      "metadata": {
        "id": "4aVgOhKoWdjX",
        "colab_type": "text"
      },
      "source": [
        "## TESTING OUTPUT"
      ]
    },
    {
      "cell_type": "code",
      "metadata": {
        "id": "6fRYSc6BNJe9",
        "colab_type": "code",
        "colab": {
          "base_uri": "https://localhost:8080/",
          "height": 573
        },
        "outputId": "47bc3cd4-0503-4ae4-bc78-a55d39fb3f76"
      },
      "source": [
        "## creating a list of Leanght(miles) and converting them to int\n",
        "x=df['Length(km)'].astype(int).tolist()\n",
        "benford_comp(x)"
      ],
      "execution_count": null,
      "outputs": [
        {
          "output_type": "display_data",
          "data": {
            "image/png": "[encoded data removed]",
            "text/plain": [
              "<Figure size 432x288 with 1 Axes>"
            ]
          },
          "metadata": {
            "tags": [],
            "needs_background": "light"
          }
        },
        {
          "output_type": "stream",
          "text": [
            "Chi Square Test in %  0.0 %\n",
            "\n",
            "                      0     1     2     3     4    ...   151   152   153   154   155\n",
            "value                6690  6387  6380  6270  5550  ...  1012  1010  1010  1006  1000\n",
            "Leading Digit Value     6     6     6     6     5  ...     1     1     1     1    10\n",
            "\n",
            "[2 rows x 156 columns]\n",
            "                Count  Observed %  Benfords Expected %  Variation\n",
            "LEADING DIGITS                                                   \n",
            "1                  95       61.29                30.10     0.3119\n",
            "2                  35       22.58                17.61     0.0497\n",
            "3                  12        7.74                12.49    -0.0475\n",
            "4                   7        4.52                 9.69    -0.0517\n",
            "5                   2        1.29                 7.92    -0.0663\n",
            "6                   4        2.58                 6.69    -0.0411\n",
            "7                   0        0.00                 5.80    -0.0580\n",
            "8                   0        0.00                 5.12    -0.0512\n",
            "9                   0        0.00                 4.58    -0.0458\n"
          ],
          "name": "stdout"
        }
      ]
    },
    {
      "cell_type": "code",
      "metadata": {
        "id": "ahjfRnKOmiOV",
        "colab_type": "code",
        "colab": {
          "base_uri": "https://localhost:8080/",
          "height": 573
        },
        "outputId": "6e8998c0-ca06-45ae-9600-a4008df5f3e1"
      },
      "source": [
        "## creating a list of Leanght(miles) and converting them to int\n",
        "x=df['Length(miles)'].astype(int).tolist()\n",
        "benford_comp(x)"
      ],
      "execution_count": null,
      "outputs": [
        {
          "output_type": "display_data",
          "data": {
            "image/png": "[encoded data removed]",
            "text/plain": [
              "<Figure size 432x288 with 1 Axes>"
            ]
          },
          "metadata": {
            "tags": [],
            "needs_background": "light"
          }
        },
        {
          "output_type": "stream",
          "text": [
            "Chi Square Test in %  0.0 %\n",
            "\n",
            "                      0     1     2     3     4    ...  151  152  153  154  155\n",
            "value                4157  3969  3964  3896  3449  ...  629  628  628  625  620\n",
            "Leading Digit Value     4     3     3     3     3  ...    6    6    6    6    6\n",
            "\n",
            "[2 rows x 156 columns]\n",
            "                Count  Observed %  Benfords Expected %  Variation\n",
            "LEADING DIGITS                                                   \n",
            "1                  55       35.48                30.10     0.0538\n",
            "2                  12        7.74                17.61    -0.0987\n",
            "3                   5        3.23                12.49    -0.0926\n",
            "4                   1        0.65                 9.69    -0.0904\n",
            "5                   0        0.00                 7.92    -0.0792\n",
            "6                  21       13.55                 6.69     0.0686\n",
            "7                  21       13.55                 5.80     0.0775\n",
            "8                  23       14.84                 5.12     0.0972\n",
            "9                  17       10.97                 4.58     0.0639\n"
          ],
          "name": "stdout"
        }
      ]
    }
  ]
}